{
 "cells": [
  {
   "cell_type": "code",
   "execution_count": 1,
   "metadata": {},
   "outputs": [],
   "source": [
    "#module 1\n"
   ]
  },
  {
   "cell_type": "code",
   "execution_count": null,
   "metadata": {},
   "outputs": [],
   "source": [
    "#mean median of scores"
   ]
  },
  {
   "cell_type": "code",
   "execution_count": 2,
   "metadata": {},
   "outputs": [
    {
     "data": {
      "text/plain": [
       "array([[  0., 100.,  78., 342.],\n",
       "       [  1.,  11.,  62., 191.],\n",
       "       [  2.,   8.,  85., 252.],\n",
       "       [  3.,  71.,  24., 307.],\n",
       "       [  4., 104.,  17., 229.],\n",
       "       [  5.,  18., 104., 246.],\n",
       "       [  6.,   8.,  76., 226.],\n",
       "       [  7.,  86.,  74., 288.],\n",
       "       [  8.,  12.,  60., 216.],\n",
       "       [  9.,  25.,  90., 304.],\n",
       "       [ 10.,  56.,   6., 272.],\n",
       "       [ 11.,  88.,  69., 302.],\n",
       "       [ 12., 147.,  65., 312.],\n",
       "       [ 13., 121., 146., 370.],\n",
       "       [ 15.,  99., 110., 362.]])"
      ]
     },
     "execution_count": 2,
     "metadata": {},
     "output_type": "execute_result"
    }
   ],
   "source": [
    "import numpy as np\n",
    "cric_data=np.loadtxt(\"cric.tsv\",skiprows=1)\n",
    "\n",
    "cric_data\n"
   ]
  },
  {
   "cell_type": "code",
   "execution_count": 3,
   "metadata": {},
   "outputs": [],
   "source": [
    "sachin=cric_data[:,1]\n",
    "dravid=cric_data[:,2]\n",
    "india=cric_data[:,3]"
   ]
  },
  {
   "cell_type": "code",
   "execution_count": 4,
   "metadata": {},
   "outputs": [
    {
     "name": "stdout",
     "output_type": "stream",
     "text": [
      "mean of sachin score is :  63.6\n",
      "median of sachinn score is : 71.0\n",
      "mean of dravid score is :  71.06666666666666\n",
      "median of dravid score is : 74.0\n",
      "mean of india score is :  281.26666666666665\n",
      "median of india score is : 71.0\n"
     ]
    }
   ],
   "source": [
    "def Sachin():\n",
    "    mean=np.mean(sachin)\n",
    "    print(\"mean of sachin score is : \" ,mean)\n",
    "    meadian=np.median(sachin)\n",
    "    print(\"median of sachinn score is :\", meadian)\n",
    "Sachin()\n",
    "def Dravid():\n",
    "    mean=np.mean(dravid)\n",
    "    print(\"mean of dravid score is : \" ,mean)\n",
    "    meadian=np.median(dravid)\n",
    "    print(\"median of dravid score is :\", meadian)\n",
    "Dravid()\n",
    "def India():\n",
    "    mean=np.mean(india)\n",
    "    print(\"mean of india score is : \" ,mean)\n",
    "    meadian=np.median(sachin)\n",
    "    print(\"median of india score is :\", meadian)\n",
    "India()"
   ]
  },
  {
   "cell_type": "code",
   "execution_count": 5,
   "metadata": {},
   "outputs": [],
   "source": [
    "# data visualization"
   ]
  },
  {
   "cell_type": "code",
   "execution_count": 28,
   "metadata": {},
   "outputs": [
    {
     "data": {
      "text/html": [
       "<div>\n",
       "<style scoped>\n",
       "    .dataframe tbody tr th:only-of-type {\n",
       "        vertical-align: middle;\n",
       "    }\n",
       "\n",
       "    .dataframe tbody tr th {\n",
       "        vertical-align: top;\n",
       "    }\n",
       "\n",
       "    .dataframe thead th {\n",
       "        text-align: right;\n",
       "    }\n",
       "</style>\n",
       "<table border=\"1\" class=\"dataframe\">\n",
       "  <thead>\n",
       "    <tr style=\"text-align: right;\">\n",
       "      <th></th>\n",
       "      <th>month_name</th>\n",
       "      <th>A</th>\n",
       "      <th>B</th>\n",
       "      <th>C</th>\n",
       "      <th>D</th>\n",
       "      <th>E</th>\n",
       "      <th>total_units</th>\n",
       "      <th>total_profit</th>\n",
       "    </tr>\n",
       "  </thead>\n",
       "  <tbody>\n",
       "    <tr>\n",
       "      <th>0</th>\n",
       "      <td>Jan</td>\n",
       "      <td>3000</td>\n",
       "      <td>4560</td>\n",
       "      <td>5300</td>\n",
       "      <td>9300</td>\n",
       "      <td>1800</td>\n",
       "      <td>23960</td>\n",
       "      <td>239600</td>\n",
       "    </tr>\n",
       "    <tr>\n",
       "      <th>1</th>\n",
       "      <td>Feb</td>\n",
       "      <td>4100</td>\n",
       "      <td>3350</td>\n",
       "      <td>5000</td>\n",
       "      <td>6200</td>\n",
       "      <td>5400</td>\n",
       "      <td>24050</td>\n",
       "      <td>240500</td>\n",
       "    </tr>\n",
       "    <tr>\n",
       "      <th>2</th>\n",
       "      <td>Mar</td>\n",
       "      <td>2450</td>\n",
       "      <td>1390</td>\n",
       "      <td>5510</td>\n",
       "      <td>9560</td>\n",
       "      <td>1550</td>\n",
       "      <td>20460</td>\n",
       "      <td>204600</td>\n",
       "    </tr>\n",
       "    <tr>\n",
       "      <th>3</th>\n",
       "      <td>Apr</td>\n",
       "      <td>3560</td>\n",
       "      <td>4400</td>\n",
       "      <td>5920</td>\n",
       "      <td>8770</td>\n",
       "      <td>4460</td>\n",
       "      <td>27110</td>\n",
       "      <td>271100</td>\n",
       "    </tr>\n",
       "    <tr>\n",
       "      <th>4</th>\n",
       "      <td>May</td>\n",
       "      <td>1540</td>\n",
       "      <td>1790</td>\n",
       "      <td>4620</td>\n",
       "      <td>7670</td>\n",
       "      <td>1850</td>\n",
       "      <td>17470</td>\n",
       "      <td>174700</td>\n",
       "    </tr>\n",
       "  </tbody>\n",
       "</table>\n",
       "</div>"
      ],
      "text/plain": [
       "  month_name     A     B     C     D     E  total_units  total_profit\n",
       "0        Jan  3000  4560  5300  9300  1800        23960        239600\n",
       "1        Feb  4100  3350  5000  6200  5400        24050        240500\n",
       "2        Mar  2450  1390  5510  9560  1550        20460        204600\n",
       "3        Apr  3560  4400  5920  8770  4460        27110        271100\n",
       "4        May  1540  1790  4620  7670  1850        17470        174700"
      ]
     },
     "execution_count": 28,
     "metadata": {},
     "output_type": "execute_result"
    }
   ],
   "source": [
    "import numpy as np\n",
    "import pandas as pd\n",
    "import matplotlib.pyplot as plt\n",
    "df=pd.read_csv('Sales.csv')\n",
    "df.head()\n"
   ]
  },
  {
   "cell_type": "code",
   "execution_count": 48,
   "metadata": {},
   "outputs": [
    {
     "name": "stdout",
     "output_type": "stream",
     "text": [
      "['Jan', 'Feb', 'Mar', 'Apr', 'May', 'June', 'July', 'Aug', 'Sep', 'Oct', 'Nov', 'Dec']\n",
      "[239600, 240500, 204600, 271100, 174700, 236300, 212000, 265000, 202600, 237800, 294200, 336800]\n"
     ]
    },
    {
     "data": {
      "text/plain": [
       "<matplotlib.legend.Legend at 0x2449d8eb6d0>"
      ]
     },
     "execution_count": 48,
     "metadata": {},
     "output_type": "execute_result"
    },
    {
     "data": {
      "image/png": "[encoded data removed]",
      "text/plain": [
       "<Figure size 432x288 with 1 Axes>"
      ]
     },
     "metadata": {
      "needs_background": "light"
     },
     "output_type": "display_data"
    }
   ],
   "source": [
    "month=df['month_name'].tolist()\n",
    "print(month)\n",
    "total_profit=df['total_profit'].tolist()\n",
    "print(total_profit)\n",
    "\n",
    "plt.xlabel('Month number', color='green')\n",
    "plt.ylabel('Item Sold units number', color='green')\n",
    "\n",
    "plt.plot(month,total_profit ,color='blue',linestyle='dotted', marker='o', linewidth=5, markerfacecolor='yellow')\n",
    "plt.legend([\"Profit\"],loc='upper right')"
   ]
  },
  {
   "cell_type": "code",
   "execution_count": 49,
   "metadata": {},
   "outputs": [
    {
     "name": "stdout",
     "output_type": "stream",
     "text": [
      "[23960, 24050, 20460, 27110, 17470, 23630, 21200, 26500, 20260, 23780, 29420, 33680]\n"
     ]
    }
   ],
   "source": [
    "total_sales=df['total_units'].tolist()\n",
    "print(total_sales)"
   ]
  },
  {
   "cell_type": "code",
   "execution_count": null,
   "metadata": {},
   "outputs": [],
   "source": []
  }
 ],
 "metadata": {
  "kernelspec": {
   "display_name": "Python 3",
   "language": "python",
   "name": "python3"
  },
  "language_info": {
   "codemirror_mode": {
    "name": "ipython",
    "version": 3
   },
   "file_extension": ".py",
   "mimetype": "text/x-python",
   "name": "python",
   "nbconvert_exporter": "python",
   "pygments_lexer": "ipython3",
   "version": "3.8.5"
  }
 },
 "nbformat": 4,
 "nbformat_minor": 4
}
